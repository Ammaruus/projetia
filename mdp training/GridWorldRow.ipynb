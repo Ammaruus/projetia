{
 "cells": [
  {
   "cell_type": "code",
   "execution_count": 16,
   "metadata": {},
   "outputs": [],
   "source": [
    "class GridworldRow():\n",
    "    def __init__(self, size=5):\n",
    "        self.size = size\n",
    "\n",
    "        self.nS = size\n",
    "        self.nA = 2\n",
    "\n",
    "        self.MAX_X = size-1\n",
    "\n",
    "        P = {}\n",
    "\n",
    "        for s in range(self.nS):\n",
    "            dynamics_s = {}\n",
    "\n",
    "            for a in range(self.nA):\n",
    "                s_prime_list = []\n",
    "\n",
    "                p = 1 if s != 0 and s != self.MAX_X else 0\n",
    "\n",
    "                if(a == 0):\n",
    "                    s_prime = max(0, s-1)\n",
    "                else:\n",
    "                    s_prime = min(self.MAX_X, s+1)\n",
    "                if (s_prime == 0):\n",
    "                    reward = -100\n",
    "                    done = True\n",
    "                elif (s_prime == self.MAX_X):\n",
    "                    reward = 10\n",
    "                    done = True\n",
    "                else:\n",
    "                    reward=0\n",
    "                    done = False\n",
    "\n",
    "                s_prime_list.append((p, s_prime, reward, done))\n",
    "                dynamics_s.update({a:s_prime_list})\n",
    "            \n",
    "            P.update({s: dynamics_s})\n",
    "        self.P = P"
   ]
  },
  {
   "cell_type": "code",
   "execution_count": 17,
   "metadata": {},
   "outputs": [
    {
     "data": {
      "text/plain": [
       "{0: {0: [(0, 0, -100, True)], 1: [(0, 1, 0, False)]},\n",
       " 1: {0: [(1, 0, -100, True)], 1: [(1, 2, 0, False)]},\n",
       " 2: {0: [(1, 1, 0, False)], 1: [(1, 3, 0, False)]},\n",
       " 3: {0: [(1, 2, 0, False)], 1: [(1, 4, 10, True)]},\n",
       " 4: {0: [(0, 3, 0, False)], 1: [(0, 4, 10, True)]}}"
      ]
     },
     "execution_count": 17,
     "metadata": {},
     "output_type": "execute_result"
    }
   ],
   "source": [
    "env = GridworldRow()\n",
    "env.P"
   ]
  },
  {
   "cell_type": "code",
   "execution_count": 18,
   "metadata": {},
   "outputs": [],
   "source": [
    "import numpy as np\n",
    "env=GridworldRow()\n",
    "pi = np.ones([env.nS, env.nA]) * 0.5\n",
    "V = np.zeros([env.nS, 1])\n",
    "\n",
    "gamma =0.99 #facteur de remise du return\n",
    "theta = 0.00001 #seuil de similitude requis pour stopper les updates"
   ]
  },
  {
   "cell_type": "code",
   "execution_count": 19,
   "metadata": {},
   "outputs": [],
   "source": [
    "def compute_q_value_for_s_a(env, V, s, a, gamma):\n",
    "    q = 0\n",
    "    for (p_sprime, sPrime, r_ss_a, done) in env.P[s][a]:\n",
    "        q += p_sprime * (r_ss_a + gamma * V[sPrime])\n",
    "    return q"
   ]
  },
  {
   "cell_type": "code",
   "execution_count": 20,
   "metadata": {},
   "outputs": [
    {
     "name": "stdout",
     "output_type": "stream",
     "text": [
      "Terminé après 22 itérations\n"
     ]
    }
   ],
   "source": [
    "# Boucle d'update de l'algo de policy evaluation\n",
    "i = 0\n",
    "while True:\n",
    "    i+=1\n",
    "    delta = 0\n",
    "\n",
    "    for s in range(env.nS):\n",
    "        V_new = 0\n",
    "    \n",
    "        for a in range(env.nA):\n",
    "            prob_a = pi[s][a]\n",
    "            q_s_a = compute_q_value_for_s_a(env, V, s, a, gamma)\n",
    "        \n",
    "            V_new+= prob_a * q_s_a\n",
    "        \n",
    "        delta = max(delta, np.abs (V_new - V[s]))\n",
    "        V[s] =V_new\n",
    "    if(delta < theta):\n",
    "        print(\"Terminé après \" + str(i) +\" itérations\")\n",
    "        break"
   ]
  },
  {
   "cell_type": "code",
   "execution_count": 21,
   "metadata": {},
   "outputs": [
    {
     "data": {
      "text/plain": [
       "array([[  0.        ],\n",
       "       [-71.62196676],\n",
       "       [-43.6807471 ],\n",
       "       [-16.62196981],\n",
       "       [  0.        ]])"
      ]
     },
     "execution_count": 21,
     "metadata": {},
     "output_type": "execute_result"
    }
   ],
   "source": [
    "V"
   ]
  },
  {
   "cell_type": "code",
   "execution_count": 22,
   "metadata": {},
   "outputs": [],
   "source": [
    "# Policy Improvement\n",
    "import numpy as np\n",
    "env = GridworldRow()\n",
    "pi = np.ones([env.nS, env.nA]) * 0.50\n",
    "gamma = 0.99 #facteur de remise du return\n",
    "V = np.array([[0], [-71.6], [-43.6], [-16.6], [0]])\n",
    "def compute_q_value_for_s_a(env, V, s, a, gamma):\n",
    "    q = 0\n",
    "\n",
    "    for (p_sPrime, sPrime, r_ss_a, done) in env.P[s] [a]:\n",
    "        q += p_sPrime * (r_ss_a+ gamma + V[sPrime])\n",
    "        return q"
   ]
  },
  {
   "cell_type": "code",
   "execution_count": 23,
   "metadata": {},
   "outputs": [],
   "source": [
    "for s in range(env.nS):\n",
    "    q_s = np.zeros([env.nA, 1])\n",
    "\n",
    "    for a in range(env.nA):\n",
    "        q_s[a] = compute_q_value_for_s_a(env, V, s, a, gamma)\n",
    "\n",
    "    best_a = np.argmax(q_s)\n",
    "    pi[s] = np.eye(env.nA)[best_a]"
   ]
  },
  {
   "cell_type": "code",
   "execution_count": 24,
   "metadata": {},
   "outputs": [
    {
     "data": {
      "text/plain": [
       "array([[1., 0.],\n",
       "       [0., 1.],\n",
       "       [0., 1.],\n",
       "       [0., 1.],\n",
       "       [1., 0.]])"
      ]
     },
     "execution_count": 24,
     "metadata": {},
     "output_type": "execute_result"
    }
   ],
   "source": [
    "pi # les 1 de la collone de droite sont les actions qui font gagner pour arriver au reward"
   ]
  },
  {
   "cell_type": "code",
   "execution_count": 42,
   "metadata": {},
   "outputs": [],
   "source": [
    "#Policy Iteration algorithm\n",
    "import numpy as np\n",
    "env = GridworldRow()\n",
    "def compute_q_value_for_s_a(env, V, s, a, gamma):\n",
    "    q = 0\n",
    "\n",
    "    for (p_sPrime, sPrime, r_ss_a, done) in env.P[s][a]:\n",
    "        q += p_sPrime * (r_ss_a+ gamma + V[sPrime])\n",
    "\n",
    "    return q"
   ]
  },
  {
   "cell_type": "code",
   "execution_count": 46,
   "metadata": {},
   "outputs": [],
   "source": [
    "def evaluate_policy(env, pi, V, gamma, theta):\n",
    "    V_updated = np.copy(V)\n",
    "    improved = True\n",
    "    print(env.nS)\n",
    "    while True:\n",
    "        delta = 0\n",
    "        for s in range(env.nS):\n",
    "            \n",
    "            V_new = 0\n",
    "\n",
    "            for a in range(env.nA):\n",
    "                prob_a = pi[s][a]\n",
    "                q_s_a = compute_q_value_for_s_a(env, V_updated, s, a, gamma)\n",
    "\n",
    "                V_new +=  prob_a * q_s_a\n",
    "\n",
    "            delta = max(delta, np.abs(V_new - V_updated[s]))\n",
    "            V_updated[s] = V_new\n",
    "\n",
    "        if(delta < theta):\n",
    "            break\n",
    "\n",
    "    if (np.array_equal(V, V_updated)):\n",
    "        improved = False\n",
    "\n",
    "    return V_updated, improved\n",
    "\n"
   ]
  },
  {
   "cell_type": "code",
   "execution_count": 40,
   "metadata": {},
   "outputs": [],
   "source": [
    "def improve_policy(env, pi, V, gamma):\n",
    "    for s in range(env.nS):\n",
    "        q_s = np.zeros([env.nA, 1])\n",
    "\n",
    "        for a in range(env.nA):\n",
    "            q_s[a] = compute_q_value_for_s_a(env, V, s, a, gamma)\n",
    "\n",
    "        best_a = np.argmax(q_s)\n",
    "        pi[s] = np.eye(env.nA)[best_a]\n",
    "    \n",
    "    return pi"
   ]
  },
  {
   "cell_type": "code",
   "execution_count": 31,
   "metadata": {},
   "outputs": [],
   "source": [
    "pi = np.ones([env.nS, env.nA]) * 0.5\n",
    "V = np.zeros([env.nS, 1]) \n",
    "\n",
    "gamma = 0.99 #facteur de return\n",
    "theta = 0.00001 #seuil de similitude requis pour stopper les updates\n"
   ]
  },
  {
   "cell_type": "code",
   "execution_count": 41,
   "metadata": {},
   "outputs": [
    {
     "ename": "KeyboardInterrupt",
     "evalue": "",
     "output_type": "error",
     "traceback": [
      "\u001b[0;31m---------------------------------------------------------------------------\u001b[0m",
      "\u001b[0;31mKeyboardInterrupt\u001b[0m                         Traceback (most recent call last)",
      "Cell \u001b[0;32mIn[41], line 5\u001b[0m\n\u001b[1;32m      2\u001b[0m \u001b[38;5;28;01mwhile\u001b[39;00m \u001b[38;5;28;01mTrue\u001b[39;00m:\n\u001b[1;32m      3\u001b[0m     i\u001b[38;5;241m+\u001b[39m\u001b[38;5;241m=\u001b[39m\u001b[38;5;241m1\u001b[39m\n\u001b[0;32m----> 5\u001b[0m     V, improved \u001b[38;5;241m=\u001b[39m \u001b[43mevaluate_policy\u001b[49m\u001b[43m(\u001b[49m\u001b[43menv\u001b[49m\u001b[43m,\u001b[49m\u001b[43m \u001b[49m\u001b[43mpi\u001b[49m\u001b[43m,\u001b[49m\u001b[43m \u001b[49m\u001b[43mV\u001b[49m\u001b[43m,\u001b[49m\u001b[43m \u001b[49m\u001b[43mgamma\u001b[49m\u001b[43m,\u001b[49m\u001b[43m \u001b[49m\u001b[43mtheta\u001b[49m\u001b[43m)\u001b[49m\n\u001b[1;32m      6\u001b[0m     pi \u001b[38;5;241m=\u001b[39m improve_policy(env, pi, V, gamma)\n\u001b[1;32m      8\u001b[0m     \u001b[38;5;28;01mif\u001b[39;00m(improved \u001b[38;5;241m==\u001b[39m \u001b[38;5;28;01mFalse\u001b[39;00m):\n",
      "Cell \u001b[0;32mIn[38], line 14\u001b[0m, in \u001b[0;36mevaluate_policy\u001b[0;34m(env, pi, V, gamma, theta)\u001b[0m\n\u001b[1;32m     11\u001b[0m     prob_a \u001b[38;5;241m=\u001b[39m pi[s][a]\n\u001b[1;32m     12\u001b[0m     q_s_a \u001b[38;5;241m=\u001b[39m compute_q_value_for_s_a(env, V_updated, s, a, gamma)\n\u001b[0;32m---> 14\u001b[0m     V_new \u001b[38;5;241m+\u001b[39m\u001b[38;5;241m=\u001b[39m  prob_a \u001b[38;5;241m*\u001b[39m q_s_a\n\u001b[1;32m     16\u001b[0m delta \u001b[38;5;241m=\u001b[39m \u001b[38;5;28mmax\u001b[39m(delta, np\u001b[38;5;241m.\u001b[39mabs(V_new \u001b[38;5;241m-\u001b[39m V_updated[s]))\n\u001b[1;32m     17\u001b[0m V_updated[s] \u001b[38;5;241m=\u001b[39m V_new\n",
      "\u001b[0;31mKeyboardInterrupt\u001b[0m: "
     ]
    }
   ],
   "source": [
    "i = 0\n",
    "while True:\n",
    "    i+=1\n",
    "\n",
    "    V, improved = evaluate_policy(env, pi, V, gamma, theta)\n",
    "    pi = improve_policy(env, pi, V, gamma)\n",
    "\n",
    "    if(improved == False):\n",
    "        print(\"Terminé après\" + str(i) + \"itérations.\")\n",
    "        break"
   ]
  },
  {
   "cell_type": "code",
   "execution_count": null,
   "metadata": {},
   "outputs": [],
   "source": [
    "pi"
   ]
  }
 ],
 "metadata": {
  "kernelspec": {
   "display_name": "Python 3",
   "language": "python",
   "name": "python3"
  },
  "language_info": {
   "codemirror_mode": {
    "name": "ipython",
    "version": 3
   },
   "file_extension": ".py",
   "mimetype": "text/x-python",
   "name": "python",
   "nbconvert_exporter": "python",
   "pygments_lexer": "ipython3",
   "version": "3.10.12"
  }
 },
 "nbformat": 4,
 "nbformat_minor": 2
}
